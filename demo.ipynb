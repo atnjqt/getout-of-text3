{
 "cells": [
  {
   "cell_type": "markdown",
   "id": "8770f981",
   "metadata": {},
   "source": [
    "# Reviewing db stuff"
   ]
  },
  {
   "cell_type": "code",
   "execution_count": 84,
   "id": "a2659f51",
   "metadata": {},
   "outputs": [],
   "source": [
    "import os\n",
    "import sys\n",
    "import sqlite3\n",
    "from sqlite3 import Error"
   ]
  },
  {
   "cell_type": "code",
   "execution_count": 85,
   "id": "4dce7160",
   "metadata": {},
   "outputs": [],
   "source": [
    "db_name = 'pdf_texts.db'"
   ]
  },
  {
   "cell_type": "code",
   "execution_count": 86,
   "id": "04324f3f",
   "metadata": {},
   "outputs": [],
   "source": [
    "conn = sqlite3.connect(db_name)\n",
    "cursor = conn.cursor()\n",
    "cursor.execute('SELECT * FROM pdf_texts')\n",
    "rows = cursor.fetchall()\n",
    "conn.close()"
   ]
  },
  {
   "cell_type": "code",
   "execution_count": 87,
   "id": "410be325",
   "metadata": {},
   "outputs": [],
   "source": [
    "# get columns in database\n",
    "conn = sqlite3.connect(db_name)\n",
    "cursor = conn.cursor()\n",
    "cursor.execute('PRAGMA table_info(pdf_texts)')\n",
    "columns = cursor.fetchall()\n",
    "conn.close()"
   ]
  },
  {
   "cell_type": "code",
   "execution_count": 89,
   "id": "5e603913",
   "metadata": {},
   "outputs": [
    {
     "name": "stdout",
     "output_type": "stream",
     "text": [
      "Database: pdf_texts.db\n",
      "Number of rows: 59\n",
      "Columns:\n",
      "  id (Type: INTEGER)\n",
      "  text (Type: TEXT)\n",
      "  url (Type: TEXT)\n",
      "  timestamp (Type: TEXT)\n",
      "  html_metadata (Type: TEXT)\n",
      "\\PDF URLs:\n",
      "  https://supreme.justia.com/cases/federal/us/502/244/case.pdf\n",
      "  https://supreme.justia.com/cases/federal/us/502/279/case.pdf\n",
      "  https://supreme.justia.com/cases/federal/us/502/410/case.pdf\n",
      "  https://supreme.justia.com/cases/federal/us/502/21/case.pdf\n",
      "  https://supreme.justia.com/cases/federal/us/502/346/case.pdf\n"
     ]
    }
   ],
   "source": [
    "print(f\"Database: {db_name}\")\n",
    "print(f\"Number of rows: {len(rows)}\")\n",
    "print(\"Columns:\")\n",
    "for column in columns:\n",
    "    print(f\"  {column[1]} (Type: {column[2]})\")\n",
    "# sample the url column\n",
    "if len(rows) > 0:\n",
    "    print(\"\\PDF URLs:\")\n",
    "    for row in rows[:5]:  # Display first 5 rows\n",
    "        print(f\"  {row[2]}\")  # Assuming the URL is in the second column (index 1)\n",
    "if len(rows) == 0:\n",
    "    print(\"No rows found in the database.\")\n"
   ]
  },
  {
   "cell_type": "markdown",
   "id": "038b719a",
   "metadata": {},
   "source": [
    "# REVIEW"
   ]
  },
  {
   "cell_type": "code",
   "execution_count": 65,
   "id": "3fcec547",
   "metadata": {},
   "outputs": [
    {
     "name": "stdout",
     "output_type": "stream",
     "text": [
      "\n",
      "Random snippets from the text column:\n",
      "  Snippet: h-below-tablet item\">\n",
      "<strong>Argued:</strong>\n",
      "<span>December 2, 1991</span>\n",
      "</div>\n",
      "<div class=\"flex...\n",
      "  Snippet: h-below-tablet item\">\n",
      "<strong>Argued:</strong>\n",
      "<span>October 7, 1991</span>\n",
      "</div>\n",
      "<div class=\"flex-...\n",
      "  Snippet: h-below-tablet item\">\n",
      "<strong>Argued:</strong>\n",
      "<span>October 15, 1991</span>\n",
      "</div>\n",
      "<div class=\"flex...\n",
      "  Snippet: h-below-tablet item\">\n",
      "<strong>Argued:</strong>\n",
      "<span>October 15, 1991</span>\n",
      "</div>\n",
      "<div class=\"flex...\n",
      "  Snippet: h-below-tablet item\">\n",
      "<strong>Argued:</strong>\n",
      "<span>November 5, 1991</span>\n",
      "</div>\n",
      "<div class=\"flex...\n"
     ]
    }
   ],
   "source": [
    "## I want random snippets somewhere in the middle of each row of text\n",
    "print(\"\\nRandom snippets from the text column:\")\n",
    "for row in rows[:5]:  # Display first 5 rows\n",
    "    text = row[4]\n",
    "    if len(text) > 100:  # Ensure there's enough text to sample\n",
    "        start = len(text) // 4  # Start sampling from the middle\n",
    "        end = start + 100  # Get a snippet of 100 characters\n",
    "        snippet = text[start:end]\n",
    "        print(f\"  Snippet: {snippet}...\")  # Display the snippet\n",
    "    else:\n",
    "        print(\"  Text too short for snippet.\")\n",
    "        "
   ]
  },
  {
   "cell_type": "code",
   "execution_count": 69,
   "id": "8af9f427",
   "metadata": {},
   "outputs": [
    {
     "name": "stdout",
     "output_type": "stream",
     "text": [
      "\n",
      "Random snippets from the text column:\n",
      "<div class=\"flex-col-wrapper\">\n",
      "<div class=\"flex-col width-20 reset-width-below-tablet item\">\n",
      "<strong>Argued:</strong>\n",
      "<span>December 2, 1991</span>\n",
      "</div>\n",
      "<div class=\"flex-col width-20 reset-width-below-tablet item\">\n",
      "<strong>Decided:</strong>\n",
      "<span>January 14, 1992</span>\n",
      "</div>\n",
      "</div>\n",
      "----\n",
      "<div class=\"flex-col-wrapper\">\n",
      "<div class=\"flex-col width-20 reset-width-below-tablet item\">\n",
      "<strong>Argued:</strong>\n",
      "<span>October 7, 1991</span>\n",
      "</div>\n",
      "<div class=\"flex-col width-20 reset-width-below-tablet item\">\n",
      "<strong>Decided:</strong>\n",
      "<span>January 14, 1992</span>\n",
      "</div>\n",
      "</div>\n",
      "----\n",
      "<div class=\"flex-col-wrapper\">\n",
      "<div class=\"flex-col width-20 reset-width-below-tablet item\">\n",
      "<strong>Argued:</strong>\n",
      "<span>October 15, 1991</span>\n",
      "</div>\n",
      "<div class=\"flex-col width-20 reset-width-below-tablet item\">\n",
      "<strong>Decided:</strong>\n",
      "<span>January 15, 1992</span>\n",
      "</div>\n",
      "</div>\n",
      "----\n",
      "<div class=\"flex-col-wrapper\">\n",
      "<div class=\"flex-col width-20 reset-width-below-tablet item\">\n",
      "<strong>Argued:</strong>\n",
      "<span>October 15, 1991</span>\n",
      "</div>\n",
      "<div class=\"flex-col width-20 reset-width-below-tablet item\">\n",
      "<strong>Decided:</strong>\n",
      "<span>November 5, 1991</span>\n",
      "</div>\n",
      "</div>\n",
      "----\n",
      "<div class=\"flex-col-wrapper\">\n",
      "<div class=\"flex-col width-20 reset-width-below-tablet item\">\n",
      "<strong>Argued:</strong>\n",
      "<span>November 5, 1991</span>\n",
      "</div>\n",
      "<div class=\"flex-col width-20 reset-width-below-tablet item\">\n",
      "<strong>Decided:</strong>\n",
      "<span>January 15, 1992</span>\n",
      "</div>\n",
      "</div>\n",
      "----\n"
     ]
    }
   ],
   "source": [
    "## I want random snippets somewhere in the middle of each row of text\n",
    "print(\"\\nRandom snippets from the text column:\")\n",
    "for row in rows[:5]:  # Display first 5 rows\n",
    "    text = row[4]\n",
    "    print(text)\n",
    "    print('----')"
   ]
  },
  {
   "cell_type": "code",
   "execution_count": null,
   "id": "728ceca7",
   "metadata": {},
   "outputs": [],
   "source": []
  }
 ],
 "metadata": {
  "kernelspec": {
   "display_name": ".venv",
   "language": "python",
   "name": "python3"
  },
  "language_info": {
   "codemirror_mode": {
    "name": "ipython",
    "version": 3
   },
   "file_extension": ".py",
   "mimetype": "text/x-python",
   "name": "python",
   "nbconvert_exporter": "python",
   "pygments_lexer": "ipython3",
   "version": "3.11.2"
  }
 },
 "nbformat": 4,
 "nbformat_minor": 5
}
